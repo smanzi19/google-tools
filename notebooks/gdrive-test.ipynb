{
 "cells": [
  {
   "cell_type": "code",
   "execution_count": 1,
   "id": "c64a2f29",
   "metadata": {
    "scrolled": true
   },
   "outputs": [],
   "source": [
    "from google_tools.creds import creds\n",
    "from googleapiclient.discovery import build\n",
    "from google_tools.drive_utils import GoogleDriver\n",
    "\n"
   ]
  },
  {
   "cell_type": "code",
   "execution_count": 2,
   "id": "858147d5",
   "metadata": {},
   "outputs": [],
   "source": [
    "service = build('drive', 'v3', credentials=creds)"
   ]
  },
  {
   "cell_type": "code",
   "execution_count": 3,
   "id": "8d2b74a9",
   "metadata": {},
   "outputs": [],
   "source": [
    "driver = GoogleDriver(service)"
   ]
  },
  {
   "cell_type": "code",
   "execution_count": 4,
   "id": "d002287a",
   "metadata": {
    "scrolled": true
   },
   "outputs": [
    {
     "data": {
      "text/plain": [
       "{'id': '11-CyMDAOtvlW2lE5cuRCy9cl6H0sN2e3',\n",
       " 'parents': ['1lPIa-frQbxEdS3PilOS0deGUNOfKQWba']}"
      ]
     },
     "execution_count": 4,
     "metadata": {},
     "output_type": "execute_result"
    }
   ],
   "source": [
    "driver.MoveFileToFolder('Sam_Manzi_Writing_Sample.pdf', 'Quatt Associates')"
   ]
  },
  {
   "cell_type": "code",
   "execution_count": null,
   "id": "e72e6ac7",
   "metadata": {
    "scrolled": true
   },
   "outputs": [],
   "source": [
    "driver.SearchFile('jfjfjjfjfjfj')"
   ]
  },
  {
   "cell_type": "code",
   "execution_count": null,
   "id": "a2e4a934",
   "metadata": {},
   "outputs": [],
   "source": [
    "driver.gdrive_folders"
   ]
  },
  {
   "cell_type": "code",
   "execution_count": null,
   "id": "287a63e8",
   "metadata": {},
   "outputs": [],
   "source": []
  }
 ],
 "metadata": {
  "kernelspec": {
   "display_name": "Python 3",
   "language": "python",
   "name": "python3"
  },
  "language_info": {
   "codemirror_mode": {
    "name": "ipython",
    "version": 3
   },
   "file_extension": ".py",
   "mimetype": "text/x-python",
   "name": "python",
   "nbconvert_exporter": "python",
   "pygments_lexer": "ipython3",
   "version": "3.8.5"
  }
 },
 "nbformat": 4,
 "nbformat_minor": 5
}
