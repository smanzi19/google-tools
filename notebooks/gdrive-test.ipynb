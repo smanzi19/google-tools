{
 "cells": [
  {
   "cell_type": "code",
   "execution_count": null,
   "id": "c64a2f29",
   "metadata": {
    "scrolled": true
   },
   "outputs": [
    {
     "name": "stdout",
     "output_type": "stream",
     "text": [
      "Please visit this URL to authorize this application: https://accounts.google.com/o/oauth2/auth?response_type=code&client_id=244774645845-vd0b4e59rhiriind3ji3hcv95pcojjtd.apps.googleusercontent.com&redirect_uri=http%3A%2F%2Flocalhost%3A50183%2F&scope=https%3A%2F%2Fwww.googleapis.com%2Fauth%2Fspreadsheets+https%3A%2F%2Fwww.googleapis.com%2Fauth%2Fdrive&state=7vxXi0gyBSX883hc1NPVnVfWqyuK4o&access_type=offline\n"
     ]
    }
   ],
   "source": [
    "%load_ext autoreload\n",
    "%autoreload\n",
    "from google_tools.creds import creds\n",
    "from googleapiclient.discovery import build\n",
    "from google_tools.drive_utils import GoogleDriver\n",
    "\n"
   ]
  },
  {
   "cell_type": "code",
   "execution_count": null,
   "id": "858147d5",
   "metadata": {},
   "outputs": [],
   "source": [
    "service = build('drive', 'v3', credentials=creds)"
   ]
  },
  {
   "cell_type": "code",
   "execution_count": null,
   "id": "8d2b74a9",
   "metadata": {},
   "outputs": [],
   "source": [
    "driver = GoogleDriver(service)"
   ]
  },
  {
   "cell_type": "code",
   "execution_count": null,
   "id": "287a63e8",
   "metadata": {},
   "outputs": [],
   "source": [
    "driver.MakeFolder('test-folder')"
   ]
  },
  {
   "cell_type": "code",
   "execution_count": null,
   "id": "4a49f841",
   "metadata": {},
   "outputs": [],
   "source": [
    "driver.MoveToFolder('test-manzi', 'test-folder')"
   ]
  },
  {
   "cell_type": "code",
   "execution_count": null,
   "id": "b42aba81",
   "metadata": {},
   "outputs": [],
   "source": []
  }
 ],
 "metadata": {
  "kernelspec": {
   "display_name": "Python 3",
   "language": "python",
   "name": "python3"
  },
  "language_info": {
   "codemirror_mode": {
    "name": "ipython",
    "version": 3
   },
   "file_extension": ".py",
   "mimetype": "text/x-python",
   "name": "python",
   "nbconvert_exporter": "python",
   "pygments_lexer": "ipython3",
   "version": "3.8.5"
  }
 },
 "nbformat": 4,
 "nbformat_minor": 5
}
