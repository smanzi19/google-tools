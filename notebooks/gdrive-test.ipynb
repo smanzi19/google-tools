{
 "cells": [
  {
   "cell_type": "code",
   "execution_count": 10,
   "id": "c64a2f29",
   "metadata": {
    "scrolled": true
   },
   "outputs": [
    {
     "name": "stdout",
     "output_type": "stream",
     "text": [
      "The autoreload extension is already loaded. To reload it, use:\n",
      "  %reload_ext autoreload\n"
     ]
    }
   ],
   "source": [
    "%load_ext autoreload\n",
    "%autoreload\n",
    "from google_tools.creds import creds\n",
    "from googleapiclient.discovery import build\n",
    "from google_tools.drive_utils import GoogleDriver\n",
    "\n"
   ]
  },
  {
   "cell_type": "code",
   "execution_count": 11,
   "id": "858147d5",
   "metadata": {},
   "outputs": [],
   "source": [
    "service = build('drive', 'v3', credentials=creds)"
   ]
  },
  {
   "cell_type": "code",
   "execution_count": 12,
   "id": "8d2b74a9",
   "metadata": {},
   "outputs": [],
   "source": [
    "driver = GoogleDriver(service)"
   ]
  },
  {
   "cell_type": "code",
   "execution_count": 4,
   "id": "287a63e8",
   "metadata": {},
   "outputs": [],
   "source": [
    "driver.MakeFolder('test-folder')"
   ]
  },
  {
   "cell_type": "code",
   "execution_count": 13,
   "id": "758ad6cf",
   "metadata": {},
   "outputs": [
    {
     "ename": "TypeError",
     "evalue": "'NoneType' object is not subscriptable",
     "output_type": "error",
     "traceback": [
      "\u001b[0;31m---------------------------------------------------------------------------\u001b[0m",
      "\u001b[0;31mTypeError\u001b[0m                                 Traceback (most recent call last)",
      "\u001b[0;32m<ipython-input-13-fbc9fc7ca2aa>\u001b[0m in \u001b[0;36m<module>\u001b[0;34m\u001b[0m\n\u001b[0;32m----> 1\u001b[0;31m \u001b[0mdriver\u001b[0m\u001b[0;34m.\u001b[0m\u001b[0mMoveToFolder\u001b[0m\u001b[0;34m(\u001b[0m\u001b[0;34m'test-folder'\u001b[0m\u001b[0;34m,\u001b[0m \u001b[0;34m'Quatt Associates'\u001b[0m\u001b[0;34m)\u001b[0m\u001b[0;34m\u001b[0m\u001b[0;34m\u001b[0m\u001b[0m\n\u001b[0m",
      "\u001b[0;32m~/Documents/poetry_projects/google-tools/src/google_tools/drive_utils.py\u001b[0m in \u001b[0;36mMoveToFolder\u001b[0;34m(self, name, folder_name)\u001b[0m\n\u001b[1;32m     53\u001b[0m     \u001b[0;32mdef\u001b[0m \u001b[0mMoveToFolder\u001b[0m\u001b[0;34m(\u001b[0m\u001b[0mself\u001b[0m\u001b[0;34m,\u001b[0m \u001b[0mname\u001b[0m\u001b[0;34m,\u001b[0m \u001b[0mfolder_name\u001b[0m\u001b[0;34m)\u001b[0m\u001b[0;34m:\u001b[0m\u001b[0;34m\u001b[0m\u001b[0;34m\u001b[0m\u001b[0m\n\u001b[1;32m     54\u001b[0m         \u001b[0mcombined_dict\u001b[0m \u001b[0;34m=\u001b[0m \u001b[0mself\u001b[0m\u001b[0;34m.\u001b[0m\u001b[0mgdrive_files\u001b[0m\u001b[0;34m.\u001b[0m\u001b[0mupdate\u001b[0m\u001b[0;34m(\u001b[0m\u001b[0mself\u001b[0m\u001b[0;34m.\u001b[0m\u001b[0mgdrive_folders\u001b[0m\u001b[0;34m)\u001b[0m\u001b[0;34m\u001b[0m\u001b[0;34m\u001b[0m\u001b[0m\n\u001b[0;32m---> 55\u001b[0;31m         \u001b[0mfile_id\u001b[0m \u001b[0;34m=\u001b[0m \u001b[0mcombined_dict\u001b[0m\u001b[0;34m[\u001b[0m\u001b[0mname\u001b[0m\u001b[0;34m]\u001b[0m\u001b[0;34m\u001b[0m\u001b[0;34m\u001b[0m\u001b[0m\n\u001b[0m\u001b[1;32m     56\u001b[0m         \u001b[0mfolder_id\u001b[0m \u001b[0;34m=\u001b[0m \u001b[0mself\u001b[0m\u001b[0;34m.\u001b[0m\u001b[0mgdrive_folders\u001b[0m\u001b[0;34m[\u001b[0m\u001b[0mfolder_name\u001b[0m\u001b[0;34m]\u001b[0m\u001b[0;34m\u001b[0m\u001b[0;34m\u001b[0m\u001b[0m\n\u001b[1;32m     57\u001b[0m         file = self.service.files().get(fileId=file_id,\n",
      "\u001b[0;31mTypeError\u001b[0m: 'NoneType' object is not subscriptable"
     ]
    }
   ],
   "source": [
    "driver.MoveToFolder('test-folder', 'Quatt Associates')"
   ]
  },
  {
   "cell_type": "code",
   "execution_count": 18,
   "id": "49d0053e",
   "metadata": {},
   "outputs": [],
   "source": [
    "a = {1:1}"
   ]
  },
  {
   "cell_type": "code",
   "execution_count": 19,
   "id": "6c4c7305",
   "metadata": {},
   "outputs": [],
   "source": [
    "b = {2:2}"
   ]
  },
  {
   "cell_type": "code",
   "execution_count": 20,
   "id": "f7ad1fcf",
   "metadata": {},
   "outputs": [],
   "source": [
    "c = a.update(b)"
   ]
  },
  {
   "cell_type": "code",
   "execution_count": 21,
   "id": "91a01723",
   "metadata": {},
   "outputs": [],
   "source": [
    "c"
   ]
  },
  {
   "cell_type": "code",
   "execution_count": null,
   "id": "8ef209de",
   "metadata": {},
   "outputs": [],
   "source": []
  }
 ],
 "metadata": {
  "kernelspec": {
   "display_name": "Python 3",
   "language": "python",
   "name": "python3"
  },
  "language_info": {
   "codemirror_mode": {
    "name": "ipython",
    "version": 3
   },
   "file_extension": ".py",
   "mimetype": "text/x-python",
   "name": "python",
   "nbconvert_exporter": "python",
   "pygments_lexer": "ipython3",
   "version": "3.8.5"
  }
 },
 "nbformat": 4,
 "nbformat_minor": 5
}
