{
 "cells": [
  {
   "cell_type": "code",
   "execution_count": null,
   "id": "c64a2f29",
   "metadata": {
    "scrolled": true
   },
   "outputs": [],
   "source": [
    "%load_ext autoreload\n",
    "%autoreload\n",
    "from google_tools.creds import creds\n",
    "from googleapiclient.discovery import build\n",
    "from google_tools.drive_utils import GoogleDriver\n",
    "\n"
   ]
  },
  {
   "cell_type": "code",
   "execution_count": null,
   "id": "858147d5",
   "metadata": {},
   "outputs": [],
   "source": [
    "service = build('drive', 'v3', credentials=creds)"
   ]
  },
  {
   "cell_type": "code",
   "execution_count": null,
   "id": "8d2b74a9",
   "metadata": {},
   "outputs": [],
   "source": [
    "driver = GoogleDriver(service)"
   ]
  },
  {
   "cell_type": "code",
   "execution_count": null,
   "id": "287a63e8",
   "metadata": {},
   "outputs": [],
   "source": [
    "driver.MakeFolder('test-folder')"
   ]
  },
  {
   "cell_type": "code",
   "execution_count": null,
   "id": "50779db2",
   "metadata": {},
   "outputs": [],
   "source": [
    "driver.MoveToFolder('Final Lab Implementation Plan', 'Quatt Associates')"
   ]
  },
  {
   "cell_type": "code",
   "execution_count": null,
   "id": "aacfd64d",
   "metadata": {},
   "outputs": [],
   "source": [
    "driver.MoveToFolder('Final Lab Implementation Plan', 'test-folder')"
   ]
  },
  {
   "cell_type": "code",
   "execution_count": null,
   "id": "f7ff4abc",
   "metadata": {},
   "outputs": [],
   "source": []
  }
 ],
 "metadata": {
  "kernelspec": {
   "display_name": "Python 3",
   "language": "python",
   "name": "python3"
  },
  "language_info": {
   "codemirror_mode": {
    "name": "ipython",
    "version": 3
   },
   "file_extension": ".py",
   "mimetype": "text/x-python",
   "name": "python",
   "nbconvert_exporter": "python",
   "pygments_lexer": "ipython3",
   "version": "3.8.5"
  }
 },
 "nbformat": 4,
 "nbformat_minor": 5
}
