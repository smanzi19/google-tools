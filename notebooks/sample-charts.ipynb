{
 "cells": [
  {
   "cell_type": "markdown",
   "id": "13e65532",
   "metadata": {},
   "source": [
    "## 1. Setup"
   ]
  },
  {
   "cell_type": "code",
   "execution_count": 1,
   "id": "4933a9d7",
   "metadata": {},
   "outputs": [],
   "source": [
    "import pandas as pd\n",
    "from google_tools.creds import creds\n",
    "from googleapiclient.discovery import build\n",
    "from google_tools.sheets_utils import GoogleSheetsWB\n",
    "from google_tools.drive_utils import GoogleDriver\n",
    "from google_tools.chart_setup import hex_to_rgb"
   ]
  },
  {
   "cell_type": "code",
   "execution_count": 2,
   "id": "6b613bc7",
   "metadata": {},
   "outputs": [],
   "source": [
    "drive_service = build('drive', 'v3', credentials=creds)\n",
    "sheets_service = build('sheets', 'v4', credentials=creds)\n",
    "driver = GoogleDriver(drive_service)"
   ]
  },
  {
   "cell_type": "markdown",
   "id": "ece041d2",
   "metadata": {},
   "source": [
    "## 2. Create sample sheet and upload"
   ]
  },
  {
   "cell_type": "code",
   "execution_count": 3,
   "id": "de236397",
   "metadata": {},
   "outputs": [
    {
     "data": {
      "text/plain": [
       "{'red': 0.99609375, 'green': 0.63671875, 'blue': 0.0}"
      ]
     },
     "execution_count": 3,
     "metadata": {},
     "output_type": "execute_result"
    }
   ],
   "source": [
    "hex_to_rgb('#ffa300')"
   ]
  },
  {
   "cell_type": "code",
   "execution_count": 4,
   "id": "0ea9709b",
   "metadata": {},
   "outputs": [],
   "source": [
    "wb_dict = {'properties':{'title':'test-manzi-charts2'}}"
   ]
  },
  {
   "cell_type": "code",
   "execution_count": 5,
   "id": "f66e8e21",
   "metadata": {},
   "outputs": [],
   "source": [
    "chart_theme =\\\n",
    "{'primaryFontFamily':'EB Garamond',\n",
    " 'themeColors':[{'colorType':'TEXT', 'color':{'rgbColor':{'red':.99609375, 'green':.63671875, 'blue':0, 'alpha':1}}},\n",
    "                {'colorType':'BACKGROUND', 'color':{'rgbColor':{'red':0, 'green':0, 'blue':0, 'alpha':1}}},\n",
    "                {'colorType':'ACCENT1', 'color':{'rgbColor':{'red':.98341, 'green':.89804, 'blue':.63529, 'alpha':1}}},\n",
    "                {'colorType':'ACCENT2', 'color':{'rgbColor':{'red':6431, 'green':.76078, 'blue':.9568, 'alpha':1}}},\n",
    "                {'colorType':'ACCENT3', 'color':{'rgbColor':{'red':.949, 'green':.745, 'blue':.2588, 'alpha':1}}},\n",
    "                {'colorType':'ACCENT4', 'color':{'rgbColor':{'red':.345, 'green':.647, 'blue':.360, 'alpha':1}}},\n",
    "                {'colorType':'ACCENT5', 'color':{'rgbColor':{'red':.92157, 'green':.4588, 'blue':.18431, 'alpha':1}}},\n",
    "                {'colorType':'ACCENT6', 'color':{'rgbColor':{'red':.4078, 'green':.72941, 'blue':.76863, 'alpha':1}}},\n",
    "                {'colorType':'LINK', 'color':{'rgbColor':{'red':.14118, 'green':.3451, 'blue':.77255, 'alpha':1}}}\n",
    "               ]\n",
    "}\n",
    "               "
   ]
  },
  {
   "cell_type": "code",
   "execution_count": 6,
   "id": "2a1b44bb",
   "metadata": {},
   "outputs": [],
   "source": [
    "wb_dict['properties']['spreadsheetTheme'] = chart_theme"
   ]
  },
  {
   "cell_type": "code",
   "execution_count": 7,
   "id": "b25c9e87",
   "metadata": {
    "scrolled": true
   },
   "outputs": [
    {
     "data": {
      "text/plain": [
       "{'spreadsheetId': '1LwpS7fikgEVKrdsvlCt6P3nDcZKUKB4b87b2KUvSaTI',\n",
       " 'properties': {'title': 'test-manzi-charts2',\n",
       "  'locale': 'en_US',\n",
       "  'autoRecalc': 'ON_CHANGE',\n",
       "  'timeZone': 'Etc/GMT',\n",
       "  'defaultFormat': {'backgroundColor': {'red': 1, 'green': 1, 'blue': 1},\n",
       "   'padding': {'top': 2, 'right': 3, 'bottom': 2, 'left': 3},\n",
       "   'verticalAlignment': 'BOTTOM',\n",
       "   'wrapStrategy': 'OVERFLOW_CELL',\n",
       "   'textFormat': {'foregroundColor': {},\n",
       "    'fontFamily': 'arial,sans,sans-serif',\n",
       "    'fontSize': 10,\n",
       "    'bold': False,\n",
       "    'italic': False,\n",
       "    'strikethrough': False,\n",
       "    'underline': False,\n",
       "    'foregroundColorStyle': {'rgbColor': {}}},\n",
       "   'backgroundColorStyle': {'rgbColor': {'red': 1, 'green': 1, 'blue': 1}}},\n",
       "  'spreadsheetTheme': {'primaryFontFamily': 'EB Garamond',\n",
       "   'themeColors': [{'colorType': 'ACCENT5',\n",
       "     'color': {'rgbColor': {'red': 0.92156863,\n",
       "       'green': 0.45490196,\n",
       "       'blue': 0.18039216}}},\n",
       "    {'colorType': 'ACCENT6',\n",
       "     'color': {'rgbColor': {'red': 0.40392157,\n",
       "       'green': 0.7254902,\n",
       "       'blue': 0.76862746}}},\n",
       "    {'colorType': 'BACKGROUND', 'color': {'rgbColor': {}}},\n",
       "    {'colorType': 'ACCENT3',\n",
       "     'color': {'rgbColor': {'red': 0.94509804,\n",
       "       'green': 0.7411765,\n",
       "       'blue': 0.25490198}}},\n",
       "    {'colorType': 'ACCENT4',\n",
       "     'color': {'rgbColor': {'red': 0.34117648,\n",
       "       'green': 0.6431373,\n",
       "       'blue': 0.35686275}}},\n",
       "    {'colorType': 'LINK',\n",
       "     'color': {'rgbColor': {'red': 0.14117648,\n",
       "       'green': 0.34509805,\n",
       "       'blue': 0.77254903}}},\n",
       "    {'colorType': 'ACCENT1',\n",
       "     'color': {'rgbColor': {'red': 0.98039216,\n",
       "       'green': 0.8980392,\n",
       "       'blue': 0.6313726}}},\n",
       "    {'colorType': 'ACCENT2',\n",
       "     'color': {'rgbColor': {'red': 0.88235295,\n",
       "       'green': 0.75686276,\n",
       "       'blue': 0.9529412}}},\n",
       "    {'colorType': 'TEXT',\n",
       "     'color': {'rgbColor': {'red': 0.99607843, 'green': 0.63529414}}}]}},\n",
       " 'sheets': [{'properties': {'sheetId': 0,\n",
       "    'title': 'Sheet1',\n",
       "    'index': 0,\n",
       "    'sheetType': 'GRID',\n",
       "    'gridProperties': {'rowCount': 1000, 'columnCount': 26}}}],\n",
       " 'spreadsheetUrl': 'https://docs.google.com/spreadsheets/d/1LwpS7fikgEVKrdsvlCt6P3nDcZKUKB4b87b2KUvSaTI/edit'}"
      ]
     },
     "execution_count": 7,
     "metadata": {},
     "output_type": "execute_result"
    }
   ],
   "source": [
    "test_wb = GoogleSheetsWB(sheets_service, wb_dict)\n",
    "test_wb.UploadWb()"
   ]
  },
  {
   "cell_type": "code",
   "execution_count": 8,
   "id": "e5b1cba0",
   "metadata": {},
   "outputs": [],
   "source": [
    "del test_wb"
   ]
  },
  {
   "cell_type": "code",
   "execution_count": 9,
   "id": "ed96b847",
   "metadata": {
    "scrolled": true
   },
   "outputs": [],
   "source": [
    "upload_data = pd.read_csv('../../google-tools/inputs/sample.csv')"
   ]
  },
  {
   "cell_type": "code",
   "execution_count": 10,
   "id": "13b44d85",
   "metadata": {},
   "outputs": [],
   "source": [
    "sheet_name = 'Sheet1'\n",
    "cell_range_key = 'A1'\n",
    "values = upload_data\n",
    "majorDimension = 'ROWS'"
   ]
  },
  {
   "cell_type": "code",
   "execution_count": 11,
   "id": "27498471",
   "metadata": {},
   "outputs": [],
   "source": [
    "test_wb = GoogleSheetsWB.FromExisting(sheets_service, driver, 'test-manzi-charts2')"
   ]
  },
  {
   "cell_type": "code",
   "execution_count": null,
   "id": "e02671ec",
   "metadata": {},
   "outputs": [],
   "source": []
  },
  {
   "cell_type": "code",
   "execution_count": 12,
   "id": "369a98ac",
   "metadata": {
    "scrolled": true
   },
   "outputs": [],
   "source": [
    "test_wb.UploadData(sheet_name=sheet_name,\n",
    "                   cell_range_key=cell_range_key,\n",
    "                   values=values,\n",
    "                   majorDimension=majorDimension)"
   ]
  },
  {
   "cell_type": "markdown",
   "id": "6abf7b0e",
   "metadata": {},
   "source": [
    "## 3. Create drive folder and move sheet there"
   ]
  },
  {
   "cell_type": "code",
   "execution_count": 13,
   "id": "bf910960",
   "metadata": {},
   "outputs": [
    {
     "data": {
      "text/plain": [
       "{'id': '1LwpS7fikgEVKrdsvlCt6P3nDcZKUKB4b87b2KUvSaTI',\n",
       " 'parents': ['1q8AziAZAIoCUuVp960JBM7BRVZS5rsFR']}"
      ]
     },
     "execution_count": 13,
     "metadata": {},
     "output_type": "execute_result"
    }
   ],
   "source": [
    "driver.MakeFolder('sample-charts')\n",
    "driver.MoveToFolder('test-manzi-charts2', 'sample-charts')"
   ]
  },
  {
   "cell_type": "markdown",
   "id": "69118df8",
   "metadata": {},
   "source": [
    "## 4. Creating a simple column chart"
   ]
  },
  {
   "cell_type": "code",
   "execution_count": 14,
   "id": "5a97febf",
   "metadata": {},
   "outputs": [
    {
     "data": {
      "text/plain": [
       "[{'properties': {'sheetId': 0,\n",
       "   'title': 'Sheet1',\n",
       "   'index': 0,\n",
       "   'sheetType': 'GRID',\n",
       "   'gridProperties': {'rowCount': 1000, 'columnCount': 26}}}]"
      ]
     },
     "execution_count": 14,
     "metadata": {},
     "output_type": "execute_result"
    }
   ],
   "source": [
    "test_wb.wb['sheets']"
   ]
  },
  {
   "cell_type": "code",
   "execution_count": 15,
   "id": "331a793e",
   "metadata": {},
   "outputs": [],
   "source": [
    "sourceSheetId = 0\n",
    "body =\\\n",
    "{\n",
    "  \"requests\": [\n",
    "    {\n",
    "      \"addChart\": {\n",
    "        \"chart\": {\n",
    "          \"spec\": {\n",
    "            \"title\": \"Model Q1 Sales\",\n",
    "            \"basicChart\": {\n",
    "              \"chartType\": \"COLUMN\",\n",
    "              \"legendPosition\": \"BOTTOM_LEGEND\",\n",
    "              \"axis\": [\n",
    "                {\n",
    "                  \"position\": \"BOTTOM_AXIS\",\n",
    "                  \"title\": \"Model Numbers\"\n",
    "                },\n",
    "                {\n",
    "                  \"position\": \"LEFT_AXIS\",\n",
    "                  \"title\": \"Sales\"\n",
    "                }\n",
    "              ],\n",
    "              \"domains\": [\n",
    "                {\n",
    "                  \"domain\": {\n",
    "                    \"sourceRange\": {\n",
    "                      \"sources\": [\n",
    "                        {\n",
    "                          \"sheetId\": sourceSheetId,\n",
    "                          \"startRowIndex\": 0,\n",
    "                          \"endRowIndex\": 7,\n",
    "                          \"startColumnIndex\": 0,\n",
    "                          \"endColumnIndex\": 1\n",
    "                        }\n",
    "                      ]\n",
    "                    }\n",
    "                  }\n",
    "                }\n",
    "              ],\n",
    "              \"series\": [\n",
    "                {\n",
    "                  \"series\": {\n",
    "                    \"sourceRange\": {\n",
    "                      \"sources\": [\n",
    "                        {\n",
    "                          \"sheetId\": sourceSheetId,\n",
    "                          \"startRowIndex\": 0,\n",
    "                          \"endRowIndex\": 7,\n",
    "                          \"startColumnIndex\": 1,\n",
    "                          \"endColumnIndex\": 2\n",
    "                        }\n",
    "                      ]\n",
    "                    }\n",
    "                  },\n",
    "                  \"targetAxis\": \"LEFT_AXIS\"\n",
    "                },\n",
    "                {\n",
    "                  \"series\": {\n",
    "                    \"sourceRange\": {\n",
    "                      \"sources\": [\n",
    "                        {\n",
    "                          \"sheetId\": sourceSheetId,\n",
    "                          \"startRowIndex\": 0,\n",
    "                          \"endRowIndex\": 7,\n",
    "                          \"startColumnIndex\": 2,\n",
    "                          \"endColumnIndex\": 3\n",
    "                        }\n",
    "                      ]\n",
    "                    }\n",
    "                  },\n",
    "                  \"targetAxis\": \"LEFT_AXIS\"\n",
    "                },\n",
    "                {\n",
    "                  \"series\": {\n",
    "                    \"sourceRange\": {\n",
    "                      \"sources\": [\n",
    "                        {\n",
    "                          \"sheetId\": sourceSheetId,\n",
    "                          \"startRowIndex\": 0,\n",
    "                          \"endRowIndex\": 7,\n",
    "                          \"startColumnIndex\": 3,\n",
    "                          \"endColumnIndex\": 4\n",
    "                        }\n",
    "                      ]\n",
    "                    }\n",
    "                  },\n",
    "                  \"targetAxis\": \"LEFT_AXIS\"\n",
    "                }\n",
    "              ],\n",
    "              \"headerCount\": 1\n",
    "            }\n",
    "          },\n",
    "          \"position\": {\n",
    "            \"newSheet\": True\n",
    "          }\n",
    "        }\n",
    "      }\n",
    "    }\n",
    "  ]\n",
    "}"
   ]
  },
  {
   "cell_type": "code",
   "execution_count": 16,
   "id": "c12f2b18",
   "metadata": {
    "scrolled": true
   },
   "outputs": [
    {
     "data": {
      "text/plain": [
       "{'spreadsheetId': '1LwpS7fikgEVKrdsvlCt6P3nDcZKUKB4b87b2KUvSaTI',\n",
       " 'replies': [{'addChart': {'chart': {'chartId': 696809510,\n",
       "     'spec': {'title': 'Model Q1 Sales',\n",
       "      'basicChart': {'chartType': 'COLUMN',\n",
       "       'legendPosition': 'BOTTOM_LEGEND',\n",
       "       'axis': [{'position': 'BOTTOM_AXIS',\n",
       "         'title': 'Model Numbers',\n",
       "         'format': {'fontFamily': 'Roboto'},\n",
       "         'viewWindowOptions': {}},\n",
       "        {'position': 'LEFT_AXIS',\n",
       "         'title': 'Sales',\n",
       "         'format': {'fontFamily': 'Roboto'},\n",
       "         'viewWindowOptions': {}}],\n",
       "       'domains': [{'domain': {'sourceRange': {'sources': [{'startRowIndex': 0,\n",
       "             'endRowIndex': 7,\n",
       "             'startColumnIndex': 0,\n",
       "             'endColumnIndex': 1}]}}}],\n",
       "       'series': [{'series': {'sourceRange': {'sources': [{'startRowIndex': 0,\n",
       "             'endRowIndex': 7,\n",
       "             'startColumnIndex': 1,\n",
       "             'endColumnIndex': 2}]}},\n",
       "         'targetAxis': 'LEFT_AXIS'},\n",
       "        {'series': {'sourceRange': {'sources': [{'startRowIndex': 0,\n",
       "             'endRowIndex': 7,\n",
       "             'startColumnIndex': 2,\n",
       "             'endColumnIndex': 3}]}},\n",
       "         'targetAxis': 'LEFT_AXIS'},\n",
       "        {'series': {'sourceRange': {'sources': [{'startRowIndex': 0,\n",
       "             'endRowIndex': 7,\n",
       "             'startColumnIndex': 3,\n",
       "             'endColumnIndex': 4}]}},\n",
       "         'targetAxis': 'LEFT_AXIS'}],\n",
       "       'headerCount': 1},\n",
       "      'hiddenDimensionStrategy': 'SKIP_HIDDEN_ROWS_AND_COLUMNS',\n",
       "      'titleTextFormat': {'fontFamily': 'Roboto'},\n",
       "      'fontName': 'Roboto'},\n",
       "     'position': {'sheetId': 956107631}}}}]}"
      ]
     },
     "execution_count": 16,
     "metadata": {},
     "output_type": "execute_result"
    }
   ],
   "source": [
    "test_wb.service.spreadsheets().batchUpdate(spreadsheetId=test_wb.spreadsheetId, body=body).execute()"
   ]
  },
  {
   "cell_type": "code",
   "execution_count": null,
   "id": "1a65f6cc",
   "metadata": {},
   "outputs": [],
   "source": []
  }
 ],
 "metadata": {
  "kernelspec": {
   "display_name": "Python 3",
   "language": "python",
   "name": "python3"
  },
  "language_info": {
   "codemirror_mode": {
    "name": "ipython",
    "version": 3
   },
   "file_extension": ".py",
   "mimetype": "text/x-python",
   "name": "python",
   "nbconvert_exporter": "python",
   "pygments_lexer": "ipython3",
   "version": "3.8.5"
  }
 },
 "nbformat": 4,
 "nbformat_minor": 5
}
