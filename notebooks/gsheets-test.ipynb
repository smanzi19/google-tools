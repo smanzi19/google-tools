{
 "cells": [
  {
   "cell_type": "markdown",
   "id": "d985f653",
   "metadata": {
    "heading_collapsed": true
   },
   "source": [
    "## 1. Consolidated quickstart"
   ]
  },
  {
   "cell_type": "code",
   "execution_count": null,
   "id": "ba59aad9",
   "metadata": {
    "hidden": true,
    "scrolled": true
   },
   "outputs": [],
   "source": [
    "%load_ext autoreload\n",
    "%autoreload\n",
    "import pandas as pd\n",
    "from google_tools.sheets_utils import (SAMPLE_RANGE_NAME, \n",
    "                                       SAMPLE_SPREADSHEET_ID,\n",
    "                                       GoogleSheetsWB)\n",
    "from google_tools.creds import creds"
   ]
  },
  {
   "cell_type": "code",
   "execution_count": null,
   "id": "eca94519",
   "metadata": {
    "hidden": true
   },
   "outputs": [],
   "source": [
    "from googleapiclient.discovery import build"
   ]
  },
  {
   "cell_type": "code",
   "execution_count": null,
   "id": "4a806cd6",
   "metadata": {
    "hidden": true
   },
   "outputs": [],
   "source": [
    "# Spreadsheet\n",
    "BUILD_PARAMS = {'serviceName':'sheets',\n",
    "                'version':'v4',\n",
    "                'credentials':creds}"
   ]
  },
  {
   "cell_type": "code",
   "execution_count": null,
   "id": "baa5048c",
   "metadata": {
    "hidden": true
   },
   "outputs": [],
   "source": [
    "service = build(**BUILD_PARAMS)"
   ]
  },
  {
   "cell_type": "code",
   "execution_count": null,
   "id": "c8f5af81",
   "metadata": {
    "hidden": true,
    "scrolled": true
   },
   "outputs": [],
   "source": [
    "sheet = service.spreadsheets()\n",
    "result = sheet.values().get(spreadsheetId=SAMPLE_SPREADSHEET_ID,\n",
    "                            range=SAMPLE_RANGE_NAME).execute()\n",
    "result.get('values', [])"
   ]
  },
  {
   "cell_type": "markdown",
   "id": "974f3dcf",
   "metadata": {},
   "source": [
    "## 2. Adding some settings (create WB and add several sheets)"
   ]
  },
  {
   "cell_type": "code",
   "execution_count": null,
   "id": "32349e16",
   "metadata": {
    "scrolled": true
   },
   "outputs": [],
   "source": [
    "%autoreload\n",
    "from google_tools.sheets_utils import GoogleSheetsWB\n",
    "test_wb = GoogleSheetsWB(service, {'properties':{'title':'test-manzi'}})"
   ]
  },
  {
   "cell_type": "code",
   "execution_count": null,
   "id": "2092e79d",
   "metadata": {
    "scrolled": true
   },
   "outputs": [],
   "source": [
    "test_wb.AddWbProperties({'locale':'en_US','timeZone':'America/New_York'})"
   ]
  },
  {
   "cell_type": "code",
   "execution_count": null,
   "id": "6a7fe339",
   "metadata": {},
   "outputs": [],
   "source": [
    "test_wb.wb"
   ]
  },
  {
   "cell_type": "code",
   "execution_count": null,
   "id": "fe1a737a",
   "metadata": {
    "scrolled": true
   },
   "outputs": [],
   "source": [
    "test_sheet = test_wb.UploadWb()"
   ]
  },
  {
   "cell_type": "markdown",
   "id": "0442e4fb",
   "metadata": {},
   "source": [
    "## 4. Write some data to a file"
   ]
  },
  {
   "cell_type": "code",
   "execution_count": null,
   "id": "dd4ae7a5",
   "metadata": {},
   "outputs": [],
   "source": [
    "test = pd.DataFrame({'a':range(10), 'b':range(10)})"
   ]
  },
  {
   "cell_type": "code",
   "execution_count": null,
   "id": "3f89c532",
   "metadata": {
    "scrolled": true
   },
   "outputs": [],
   "source": [
    "# settings\n",
    "sheet_name = 'Sheet1'\n",
    "cell_range_key = 'A1'\n",
    "values = [['A', 'B', 'C', 'D'], [1, 2, 3, 4]]\n",
    "majorDimension = 'ROWS'"
   ]
  },
  {
   "cell_type": "code",
   "execution_count": null,
   "id": "20c28ec7",
   "metadata": {},
   "outputs": [],
   "source": [
    "test_wb.UploadData(sheet_name, cell_range_key, values, majorDimension, append=False)"
   ]
  },
  {
   "cell_type": "code",
   "execution_count": null,
   "id": "cf37c327",
   "metadata": {},
   "outputs": [],
   "source": [
    "test_wb.UploadData(sheet_name, cell_range_key, test, majorDimension, append=True)"
   ]
  },
  {
   "cell_type": "markdown",
   "id": "d1cd5726",
   "metadata": {},
   "source": [
    "# 5. Adding a new sheet"
   ]
  },
  {
   "cell_type": "code",
   "execution_count": null,
   "id": "652a9933",
   "metadata": {},
   "outputs": [],
   "source": [
    "new_sheet = {'properties':{'title':'Sheet2'}}"
   ]
  },
  {
   "cell_type": "code",
   "execution_count": null,
   "id": "4ddcf7d4",
   "metadata": {},
   "outputs": [],
   "source": [
    "test_wb.AddSheets(new_sheet)"
   ]
  },
  {
   "cell_type": "code",
   "execution_count": null,
   "id": "582a84fa",
   "metadata": {},
   "outputs": [],
   "source": [
    "test_wb.wb['sheets']"
   ]
  },
  {
   "cell_type": "code",
   "execution_count": null,
   "id": "1f02acca",
   "metadata": {
    "scrolled": false
   },
   "outputs": [],
   "source": [
    "test_wb.wb['sheets']"
   ]
  },
  {
   "cell_type": "code",
   "execution_count": null,
   "id": "9a145903",
   "metadata": {},
   "outputs": [],
   "source": [
    "test_wb.spreadsheetId"
   ]
  }
 ],
 "metadata": {
  "kernelspec": {
   "display_name": "Python 3",
   "language": "python",
   "name": "python3"
  },
  "language_info": {
   "codemirror_mode": {
    "name": "ipython",
    "version": 3
   },
   "file_extension": ".py",
   "mimetype": "text/x-python",
   "name": "python",
   "nbconvert_exporter": "python",
   "pygments_lexer": "ipython3",
   "version": "3.8.5"
  }
 },
 "nbformat": 4,
 "nbformat_minor": 5
}
