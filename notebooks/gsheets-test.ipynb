{
 "cells": [
  {
   "cell_type": "markdown",
   "id": "d985f653",
   "metadata": {},
   "source": [
    "## 1. Consolidated quickstart"
   ]
  },
  {
   "cell_type": "code",
   "execution_count": 1,
   "id": "ba59aad9",
   "metadata": {
    "scrolled": true
   },
   "outputs": [],
   "source": [
    "%load_ext autoreload\n",
    "%autoreload\n",
    "import pandas as pd\n",
    "from google_tools.sheets_utils import (SAMPLE_RANGE_NAME, \n",
    "                                       SAMPLE_SPREADSHEET_ID,\n",
    "                                       GoogleSheetsWB)\n",
    "from google_tools.creds import creds"
   ]
  },
  {
   "cell_type": "code",
   "execution_count": 2,
   "id": "eca94519",
   "metadata": {},
   "outputs": [],
   "source": [
    "from googleapiclient.discovery import build"
   ]
  },
  {
   "cell_type": "code",
   "execution_count": 3,
   "id": "4a806cd6",
   "metadata": {},
   "outputs": [],
   "source": [
    "# Spreadsheet\n",
    "BUILD_PARAMS = {'serviceName':'sheets',\n",
    "                'version':'v4',\n",
    "                'credentials':creds}"
   ]
  },
  {
   "cell_type": "code",
   "execution_count": 4,
   "id": "baa5048c",
   "metadata": {},
   "outputs": [],
   "source": [
    "service = build(**BUILD_PARAMS)"
   ]
  },
  {
   "cell_type": "code",
   "execution_count": 5,
   "id": "c8f5af81",
   "metadata": {
    "scrolled": true
   },
   "outputs": [
    {
     "data": {
      "text/plain": [
       "[['Alexandra', 'Female', '4. Senior', 'CA', 'English'],\n",
       " ['Andrew', 'Male', '1. Freshman', 'SD', 'Math'],\n",
       " ['Anna', 'Female', '1. Freshman', 'NC', 'English'],\n",
       " ['Becky', 'Female', '2. Sophomore', 'SD', 'Art'],\n",
       " ['Benjamin', 'Male', '4. Senior', 'WI', 'English'],\n",
       " ['Carl', 'Male', '3. Junior', 'MD', 'Art'],\n",
       " ['Carrie', 'Female', '3. Junior', 'NE', 'English'],\n",
       " ['Dorothy', 'Female', '4. Senior', 'MD', 'Math'],\n",
       " ['Dylan', 'Male', '1. Freshman', 'MA', 'Math'],\n",
       " ['Edward', 'Male', '3. Junior', 'FL', 'English'],\n",
       " ['Ellen', 'Female', '1. Freshman', 'WI', 'Physics'],\n",
       " ['Fiona', 'Female', '1. Freshman', 'MA', 'Art'],\n",
       " ['John', 'Male', '3. Junior', 'CA', 'Physics'],\n",
       " ['Jonathan', 'Male', '2. Sophomore', 'SC', 'Math'],\n",
       " ['Joseph', 'Male', '1. Freshman', 'AK', 'English'],\n",
       " ['Josephine', 'Female', '1. Freshman', 'NY', 'Math'],\n",
       " ['Karen', 'Female', '2. Sophomore', 'NH', 'English'],\n",
       " ['Kevin', 'Male', '2. Sophomore', 'NE', 'Physics'],\n",
       " ['Lisa', 'Female', '3. Junior', 'SC', 'Art'],\n",
       " ['Mary', 'Female', '2. Sophomore', 'AK', 'Physics'],\n",
       " ['Maureen', 'Female', '1. Freshman', 'CA', 'Physics'],\n",
       " ['Nick', 'Male', '4. Senior', 'NY', 'Art'],\n",
       " ['Olivia', 'Female', '4. Senior', 'NC', 'Physics'],\n",
       " ['Pamela', 'Female', '3. Junior', 'RI', 'Math'],\n",
       " ['Patrick', 'Male', '1. Freshman', 'NY', 'Art'],\n",
       " ['Robert', 'Male', '1. Freshman', 'CA', 'English'],\n",
       " ['Sean', 'Male', '1. Freshman', 'NH', 'Physics'],\n",
       " ['Stacy', 'Female', '1. Freshman', 'NY', 'Math'],\n",
       " ['Thomas', 'Male', '2. Sophomore', 'RI', 'Art'],\n",
       " ['Will', 'Male', '4. Senior', 'FL', 'Math']]"
      ]
     },
     "execution_count": 5,
     "metadata": {},
     "output_type": "execute_result"
    }
   ],
   "source": [
    "sheet = service.spreadsheets()\n",
    "result = sheet.values().get(spreadsheetId=SAMPLE_SPREADSHEET_ID,\n",
    "                            range=SAMPLE_RANGE_NAME).execute()\n",
    "result.get('values', [])"
   ]
  },
  {
   "cell_type": "markdown",
   "id": "1bfc1fd3",
   "metadata": {},
   "source": [
    "## 2. Create spreadsheet (check GSheets to verify)"
   ]
  },
  {
   "cell_type": "code",
   "execution_count": 6,
   "id": "75eab67c",
   "metadata": {},
   "outputs": [],
   "source": [
    "sheet1 = service.spreadsheets().create().execute()"
   ]
  },
  {
   "cell_type": "markdown",
   "id": "974f3dcf",
   "metadata": {},
   "source": [
    "## 3. Adding some settings (create WB and add several sheets)"
   ]
  },
  {
   "cell_type": "code",
   "execution_count": 7,
   "id": "32349e16",
   "metadata": {
    "scrolled": true
   },
   "outputs": [],
   "source": [
    "test_wb = GoogleSheetsWB({'properties':{'title':'jfjfjjfjfjfj'}})"
   ]
  },
  {
   "cell_type": "code",
   "execution_count": 8,
   "id": "2092e79d",
   "metadata": {
    "scrolled": true
   },
   "outputs": [],
   "source": [
    "test_wb.AddWbProperties({'locale':'en_US','timeZone':'America/New_York',})"
   ]
  },
  {
   "cell_type": "code",
   "execution_count": 9,
   "id": "6ebc031b",
   "metadata": {},
   "outputs": [],
   "source": [
    "add_these = \\\n",
    "[{'properties':{'title':'sheet1'}},\n",
    "           {'properties':{'title':'sheet2'}},\n",
    "           {'properties':{'title':'sheet3'}},\n",
    "           {'properties':{'title':'sheet4'}}]"
   ]
  },
  {
   "cell_type": "code",
   "execution_count": 10,
   "id": "1601ac97",
   "metadata": {},
   "outputs": [],
   "source": [
    "test_wb.AddSheets(add_these)"
   ]
  },
  {
   "cell_type": "code",
   "execution_count": 11,
   "id": "fe1a737a",
   "metadata": {
    "scrolled": true
   },
   "outputs": [],
   "source": [
    "test_sheet = test_wb.UploadWb(service)"
   ]
  },
  {
   "cell_type": "markdown",
   "id": "0442e4fb",
   "metadata": {},
   "source": [
    "## 4. Write some data to a file"
   ]
  },
  {
   "cell_type": "code",
   "execution_count": 12,
   "id": "dd4ae7a5",
   "metadata": {},
   "outputs": [],
   "source": [
    "test = pd.DataFrame({'a':range(10), 'b':range(10)})"
   ]
  },
  {
   "cell_type": "code",
   "execution_count": 13,
   "id": "3f89c532",
   "metadata": {},
   "outputs": [],
   "source": [
    "# settings\n",
    "sheet_name = 'sheet1'\n",
    "cell_range_key = 'A1'\n",
    "values = [['A', 'B', 'C', 'D'], [1, 2, 3, 4]]\n",
    "majorDimension = 'ROWS'\n",
    "test_wb.UploadData(sheet_name, cell_range_key, test, majorDimension, service)"
   ]
  },
  {
   "cell_type": "code",
   "execution_count": 14,
   "id": "cf37c327",
   "metadata": {},
   "outputs": [],
   "source": [
    "test_wb.UploadData(sheet_name, cell_range_key, test, majorDimension, service, append=True)"
   ]
  },
  {
   "cell_type": "code",
   "execution_count": 15,
   "id": "a6595d08",
   "metadata": {},
   "outputs": [],
   "source": [
    "service.close()"
   ]
  },
  {
   "cell_type": "code",
   "execution_count": null,
   "id": "d6fe75d9",
   "metadata": {},
   "outputs": [],
   "source": []
  }
 ],
 "metadata": {
  "kernelspec": {
   "display_name": "Python 3",
   "language": "python",
   "name": "python3"
  },
  "language_info": {
   "codemirror_mode": {
    "name": "ipython",
    "version": 3
   },
   "file_extension": ".py",
   "mimetype": "text/x-python",
   "name": "python",
   "nbconvert_exporter": "python",
   "pygments_lexer": "ipython3",
   "version": "3.8.5"
  }
 },
 "nbformat": 4,
 "nbformat_minor": 5
}
