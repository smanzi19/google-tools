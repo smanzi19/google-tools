{
 "cells": [
  {
   "cell_type": "markdown",
   "id": "d985f653",
   "metadata": {
    "heading_collapsed": true
   },
   "source": [
    "## 1. Consolidated quickstart"
   ]
  },
  {
   "cell_type": "code",
   "execution_count": 17,
   "id": "ba59aad9",
   "metadata": {
    "hidden": true,
    "scrolled": true
   },
   "outputs": [
    {
     "name": "stdout",
     "output_type": "stream",
     "text": [
      "The autoreload extension is already loaded. To reload it, use:\n",
      "  %reload_ext autoreload\n"
     ]
    }
   ],
   "source": [
    "%load_ext autoreload\n",
    "%autoreload\n",
    "import pandas as pd\n",
    "from google_tools.sheets_utils import (SAMPLE_RANGE_NAME, \n",
    "                                       SAMPLE_SPREADSHEET_ID,\n",
    "                                       GoogleSheetsWB)\n",
    "from google_tools.creds import creds"
   ]
  },
  {
   "cell_type": "code",
   "execution_count": 18,
   "id": "eca94519",
   "metadata": {
    "hidden": true
   },
   "outputs": [],
   "source": [
    "from googleapiclient.discovery import build"
   ]
  },
  {
   "cell_type": "code",
   "execution_count": 19,
   "id": "4a806cd6",
   "metadata": {
    "hidden": true
   },
   "outputs": [],
   "source": [
    "# Spreadsheet\n",
    "BUILD_PARAMS = {'serviceName':'sheets',\n",
    "                'version':'v4',\n",
    "                'credentials':creds}"
   ]
  },
  {
   "cell_type": "code",
   "execution_count": 20,
   "id": "baa5048c",
   "metadata": {
    "hidden": true
   },
   "outputs": [],
   "source": [
    "service = build(**BUILD_PARAMS)"
   ]
  },
  {
   "cell_type": "code",
   "execution_count": 21,
   "id": "c8f5af81",
   "metadata": {
    "hidden": true,
    "scrolled": true
   },
   "outputs": [
    {
     "data": {
      "text/plain": [
       "[['Alexandra', 'Female', '4. Senior', 'CA', 'English'],\n",
       " ['Andrew', 'Male', '1. Freshman', 'SD', 'Math'],\n",
       " ['Anna', 'Female', '1. Freshman', 'NC', 'English'],\n",
       " ['Becky', 'Female', '2. Sophomore', 'SD', 'Art'],\n",
       " ['Benjamin', 'Male', '4. Senior', 'WI', 'English'],\n",
       " ['Carl', 'Male', '3. Junior', 'MD', 'Art'],\n",
       " ['Carrie', 'Female', '3. Junior', 'NE', 'English'],\n",
       " ['Dorothy', 'Female', '4. Senior', 'MD', 'Math'],\n",
       " ['Dylan', 'Male', '1. Freshman', 'MA', 'Math'],\n",
       " ['Edward', 'Male', '3. Junior', 'FL', 'English'],\n",
       " ['Ellen', 'Female', '1. Freshman', 'WI', 'Physics'],\n",
       " ['Fiona', 'Female', '1. Freshman', 'MA', 'Art'],\n",
       " ['John', 'Male', '3. Junior', 'CA', 'Physics'],\n",
       " ['Jonathan', 'Male', '2. Sophomore', 'SC', 'Math'],\n",
       " ['Joseph', 'Male', '1. Freshman', 'AK', 'English'],\n",
       " ['Josephine', 'Female', '1. Freshman', 'NY', 'Math'],\n",
       " ['Karen', 'Female', '2. Sophomore', 'NH', 'English'],\n",
       " ['Kevin', 'Male', '2. Sophomore', 'NE', 'Physics'],\n",
       " ['Lisa', 'Female', '3. Junior', 'SC', 'Art'],\n",
       " ['Mary', 'Female', '2. Sophomore', 'AK', 'Physics'],\n",
       " ['Maureen', 'Female', '1. Freshman', 'CA', 'Physics'],\n",
       " ['Nick', 'Male', '4. Senior', 'NY', 'Art'],\n",
       " ['Olivia', 'Female', '4. Senior', 'NC', 'Physics'],\n",
       " ['Pamela', 'Female', '3. Junior', 'RI', 'Math'],\n",
       " ['Patrick', 'Male', '1. Freshman', 'NY', 'Art'],\n",
       " ['Robert', 'Male', '1. Freshman', 'CA', 'English'],\n",
       " ['Sean', 'Male', '1. Freshman', 'NH', 'Physics'],\n",
       " ['Stacy', 'Female', '1. Freshman', 'NY', 'Math'],\n",
       " ['Thomas', 'Male', '2. Sophomore', 'RI', 'Art'],\n",
       " ['Will', 'Male', '4. Senior', 'FL', 'Math']]"
      ]
     },
     "execution_count": 21,
     "metadata": {},
     "output_type": "execute_result"
    }
   ],
   "source": [
    "sheet = service.spreadsheets()\n",
    "result = sheet.values().get(spreadsheetId=SAMPLE_SPREADSHEET_ID,\n",
    "                            range=SAMPLE_RANGE_NAME).execute()\n",
    "result.get('values', [])"
   ]
  },
  {
   "cell_type": "markdown",
   "id": "974f3dcf",
   "metadata": {
    "heading_collapsed": true
   },
   "source": [
    "## 2. Adding some settings (create WB and add several sheets)"
   ]
  },
  {
   "cell_type": "code",
   "execution_count": 22,
   "id": "32349e16",
   "metadata": {
    "hidden": true,
    "scrolled": true
   },
   "outputs": [],
   "source": [
    "%autoreload\n",
    "from google_tools.sheets_utils import GoogleSheetsWB\n",
    "test_wb = GoogleSheetsWB(service, {'properties':{'title':'jfjfjjfjfjfj'}})"
   ]
  },
  {
   "cell_type": "code",
   "execution_count": 23,
   "id": "2092e79d",
   "metadata": {
    "hidden": true,
    "scrolled": true
   },
   "outputs": [],
   "source": [
    "test_wb.AddWbProperties({'locale':'en_US','timeZone':'America/New_York'})"
   ]
  },
  {
   "cell_type": "code",
   "execution_count": 24,
   "id": "1138008e",
   "metadata": {
    "hidden": true
   },
   "outputs": [
    {
     "data": {
      "text/plain": [
       "{'properties': {'title': 'jfjfjjfjfjfj',\n",
       "  'locale': 'en_US',\n",
       "  'timeZone': 'America/New_York'}}"
      ]
     },
     "execution_count": 24,
     "metadata": {},
     "output_type": "execute_result"
    }
   ],
   "source": [
    "test_wb.wb"
   ]
  },
  {
   "cell_type": "code",
   "execution_count": 25,
   "id": "fe1a737a",
   "metadata": {
    "hidden": true,
    "scrolled": true
   },
   "outputs": [],
   "source": [
    "test_sheet = test_wb.UploadWb()"
   ]
  },
  {
   "cell_type": "markdown",
   "id": "0442e4fb",
   "metadata": {},
   "source": [
    "## 4. Write some data to a file"
   ]
  },
  {
   "cell_type": "code",
   "execution_count": 26,
   "id": "dd4ae7a5",
   "metadata": {},
   "outputs": [],
   "source": [
    "test = pd.DataFrame({'a':range(10), 'b':range(10)})"
   ]
  },
  {
   "cell_type": "code",
   "execution_count": 27,
   "id": "3f89c532",
   "metadata": {
    "scrolled": true
   },
   "outputs": [],
   "source": [
    "# settings\n",
    "sheet_name = 'Sheet1'\n",
    "cell_range_key = 'A1'\n",
    "values = [['A', 'B', 'C', 'D'], [1, 2, 3, 4]]\n",
    "majorDimension = 'ROWS'"
   ]
  },
  {
   "cell_type": "code",
   "execution_count": 28,
   "id": "e427b3e8",
   "metadata": {},
   "outputs": [],
   "source": [
    "test_wb.UploadData(sheet_name, cell_range_key, values, majorDimension, append=False)"
   ]
  },
  {
   "cell_type": "code",
   "execution_count": 29,
   "id": "cf37c327",
   "metadata": {},
   "outputs": [],
   "source": [
    "test_wb.UploadData(sheet_name, cell_range_key, test, majorDimension, append=True)"
   ]
  },
  {
   "cell_type": "markdown",
   "id": "0fb36837",
   "metadata": {},
   "source": [
    "# 5. Adding a new sheet"
   ]
  },
  {
   "cell_type": "code",
   "execution_count": 30,
   "id": "01e53801",
   "metadata": {},
   "outputs": [],
   "source": [
    "new_sheet = {'properties':{'title':'Sheet2'}}"
   ]
  },
  {
   "cell_type": "code",
   "execution_count": 31,
   "id": "cc7ddb23",
   "metadata": {},
   "outputs": [],
   "source": [
    "test_wb.AddSheets(new_sheet)"
   ]
  },
  {
   "cell_type": "code",
   "execution_count": 32,
   "id": "9e2f3175",
   "metadata": {},
   "outputs": [
    {
     "data": {
      "text/plain": [
       "[{'properties': {'sheetId': 0,\n",
       "   'title': 'Sheet1',\n",
       "   'index': 0,\n",
       "   'sheetType': 'GRID',\n",
       "   'gridProperties': {'rowCount': 1000, 'columnCount': 26}}},\n",
       " {'properties': {'sheetId': 1267769204,\n",
       "   'title': 'Sheet3',\n",
       "   'index': 1,\n",
       "   'sheetType': 'GRID',\n",
       "   'gridProperties': {'rowCount': 1000, 'columnCount': 26}}}]"
      ]
     },
     "execution_count": 32,
     "metadata": {},
     "output_type": "execute_result"
    }
   ],
   "source": [
    "test_wb.wb['sheets']"
   ]
  },
  {
   "cell_type": "code",
   "execution_count": 33,
   "id": "a6595d08",
   "metadata": {},
   "outputs": [],
   "source": [
    "service.close()"
   ]
  },
  {
   "cell_type": "code",
   "execution_count": null,
   "id": "780bc7b1",
   "metadata": {},
   "outputs": [],
   "source": []
  }
 ],
 "metadata": {
  "kernelspec": {
   "display_name": "Python 3",
   "language": "python",
   "name": "python3"
  },
  "language_info": {
   "codemirror_mode": {
    "name": "ipython",
    "version": 3
   },
   "file_extension": ".py",
   "mimetype": "text/x-python",
   "name": "python",
   "nbconvert_exporter": "python",
   "pygments_lexer": "ipython3",
   "version": "3.8.5"
  }
 },
 "nbformat": 4,
 "nbformat_minor": 5
}
