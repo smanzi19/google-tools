{
 "cells": [
  {
   "cell_type": "markdown",
   "id": "d985f653",
   "metadata": {},
   "source": [
    "## 1. Consolidated quickstart"
   ]
  },
  {
   "cell_type": "code",
   "execution_count": null,
   "id": "ba59aad9",
   "metadata": {},
   "outputs": [],
   "source": [
    "from google_tools.sheets_utils import (Create_Service, \n",
    "                                       BUILD_PARAMS, \n",
    "                                       SAMPLE_RANGE_NAME, \n",
    "                                       SAMPLE_SPREADSHEET_ID)"
   ]
  },
  {
   "cell_type": "code",
   "execution_count": null,
   "id": "baa5048c",
   "metadata": {},
   "outputs": [],
   "source": [
    "service = Create_Service(BUILD_PARAMS)"
   ]
  },
  {
   "cell_type": "code",
   "execution_count": null,
   "id": "c8f5af81",
   "metadata": {
    "scrolled": true
   },
   "outputs": [],
   "source": [
    "sheet = service.spreadsheets()\n",
    "result = sheet.values().get(spreadsheetId=SAMPLE_SPREADSHEET_ID,\n",
    "                            range=SAMPLE_RANGE_NAME).execute()\n",
    "result.get('values', [])"
   ]
  },
  {
   "cell_type": "code",
   "execution_count": null,
   "id": "f9f71be1",
   "metadata": {},
   "outputs": [],
   "source": [
    "service.close()"
   ]
  }
 ],
 "metadata": {
  "kernelspec": {
   "display_name": "Python 3",
   "language": "python",
   "name": "python3"
  },
  "language_info": {
   "codemirror_mode": {
    "name": "ipython",
    "version": 3
   },
   "file_extension": ".py",
   "mimetype": "text/x-python",
   "name": "python",
   "nbconvert_exporter": "python",
   "pygments_lexer": "ipython3",
   "version": "3.8.5"
  }
 },
 "nbformat": 4,
 "nbformat_minor": 5
}
