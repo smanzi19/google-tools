{
 "cells": [
  {
   "cell_type": "markdown",
   "id": "d985f653",
   "metadata": {
    "heading_collapsed": true
   },
   "source": [
    "## 1. Consolidated quickstart"
   ]
  },
  {
   "cell_type": "code",
   "execution_count": null,
   "id": "ba59aad9",
   "metadata": {
    "hidden": true,
    "scrolled": true
   },
   "outputs": [],
   "source": [
    "%load_ext autoreload\n",
    "%autoreload\n",
    "from google_tools.sheets_utils import (SAMPLE_RANGE_NAME, \n",
    "                                       SAMPLE_SPREADSHEET_ID,\n",
    "                                       GoogleSheetsWB)"
   ]
  },
  {
   "cell_type": "code",
   "execution_count": null,
   "id": "bf765df8",
   "metadata": {
    "hidden": true
   },
   "outputs": [],
   "source": [
    "from google_tools.creds import creds"
   ]
  },
  {
   "cell_type": "code",
   "execution_count": null,
   "id": "d051d56b",
   "metadata": {
    "hidden": true
   },
   "outputs": [],
   "source": [
    "from googleapiclient.discovery import build"
   ]
  },
  {
   "cell_type": "code",
   "execution_count": null,
   "id": "295c7090",
   "metadata": {
    "hidden": true
   },
   "outputs": [],
   "source": [
    "# Spreadsheet\n",
    "BUILD_PARAMS = {'serviceName':'sheets',\n",
    "                'version':'v4',\n",
    "                'credentials':creds}"
   ]
  },
  {
   "cell_type": "code",
   "execution_count": null,
   "id": "baa5048c",
   "metadata": {
    "hidden": true
   },
   "outputs": [],
   "source": [
    "service = build(**BUILD_PARAMS)"
   ]
  },
  {
   "cell_type": "code",
   "execution_count": null,
   "id": "c8f5af81",
   "metadata": {
    "hidden": true,
    "scrolled": true
   },
   "outputs": [],
   "source": [
    "sheet = service.spreadsheets()\n",
    "result = sheet.values().get(spreadsheetId=SAMPLE_SPREADSHEET_ID,\n",
    "                            range=SAMPLE_RANGE_NAME).execute()\n",
    "result.get('values', [])"
   ]
  },
  {
   "cell_type": "markdown",
   "id": "1bfc1fd3",
   "metadata": {},
   "source": [
    "## 2. Create spreadsheet (check GSheets to verify)"
   ]
  },
  {
   "cell_type": "code",
   "execution_count": null,
   "id": "75eab67c",
   "metadata": {},
   "outputs": [],
   "source": [
    "sheet1 = service.spreadsheets().create().execute()"
   ]
  },
  {
   "cell_type": "markdown",
   "id": "974f3dcf",
   "metadata": {},
   "source": [
    "## 3. Adding some settings (create WB and add several sheets)"
   ]
  },
  {
   "cell_type": "code",
   "execution_count": null,
   "id": "32349e16",
   "metadata": {
    "scrolled": true
   },
   "outputs": [],
   "source": [
    "test_wb = GoogleSheetsWB({'properties':{'title':'test'}})"
   ]
  },
  {
   "cell_type": "code",
   "execution_count": null,
   "id": "2092e79d",
   "metadata": {
    "scrolled": true
   },
   "outputs": [],
   "source": [
    "test_wb.add_wb_properties({'locale':'en_US','timeZone':'America/New_York',})"
   ]
  },
  {
   "cell_type": "code",
   "execution_count": null,
   "id": "6ebc031b",
   "metadata": {},
   "outputs": [],
   "source": [
    "add_these = \\\n",
    "[{'properties':{'title':'sheet1'}},\n",
    "           {'properties':{'title':'sheet2'}},\n",
    "           {'properties':{'title':'sheet3'}},\n",
    "           {'properties':{'title':'sheet4'}}]"
   ]
  },
  {
   "cell_type": "code",
   "execution_count": null,
   "id": "1601ac97",
   "metadata": {},
   "outputs": [],
   "source": [
    "test_wb.add_sheets(add_these)"
   ]
  },
  {
   "cell_type": "code",
   "execution_count": null,
   "id": "fe1a737a",
   "metadata": {
    "scrolled": true
   },
   "outputs": [],
   "source": [
    "test_sheet = test_wb.upload_wb(service)"
   ]
  },
  {
   "cell_type": "markdown",
   "id": "0442e4fb",
   "metadata": {},
   "source": [
    "## 4. Write some data to a file"
   ]
  },
  {
   "cell_type": "code",
   "execution_count": null,
   "id": "3f89c532",
   "metadata": {},
   "outputs": [],
   "source": [
    "# settings\n",
    "sheet_name = 'sheet1'\n",
    "cell_range_key = 'A1'\n",
    "values = [['A', 'B', 'C', 'D'], [1, 2, 3, 4]]\n",
    "majorDimension = 'ROWS'\n",
    "test_wb.upload_data(sheet_name, cell_range_key, values, majorDimension, service)"
   ]
  },
  {
   "cell_type": "code",
   "execution_count": null,
   "id": "e373f50d",
   "metadata": {},
   "outputs": [],
   "source": [
    "values2 = [[10, 11, 12, 13]]"
   ]
  },
  {
   "cell_type": "code",
   "execution_count": null,
   "id": "cf37c327",
   "metadata": {},
   "outputs": [],
   "source": [
    "test_wb.upload_data(sheet_name, cell_range_key, values2, majorDimension, service, append=True)"
   ]
  },
  {
   "cell_type": "code",
   "execution_count": null,
   "id": "9a24b348",
   "metadata": {},
   "outputs": [],
   "source": [
    "# service.close()"
   ]
  },
  {
   "cell_type": "code",
   "execution_count": null,
   "id": "10121787",
   "metadata": {},
   "outputs": [],
   "source": [
    "service.close()"
   ]
  },
  {
   "cell_type": "code",
   "execution_count": null,
   "id": "3dfdf4b0",
   "metadata": {},
   "outputs": [],
   "source": []
  }
 ],
 "metadata": {
  "kernelspec": {
   "display_name": "Python 3",
   "language": "python",
   "name": "python3"
  },
  "language_info": {
   "codemirror_mode": {
    "name": "ipython",
    "version": 3
   },
   "file_extension": ".py",
   "mimetype": "text/x-python",
   "name": "python",
   "nbconvert_exporter": "python",
   "pygments_lexer": "ipython3",
   "version": "3.8.5"
  }
 },
 "nbformat": 4,
 "nbformat_minor": 5
}
