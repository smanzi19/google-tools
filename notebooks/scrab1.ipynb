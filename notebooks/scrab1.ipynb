{
 "cells": [
  {
   "cell_type": "markdown",
   "id": "d985f653",
   "metadata": {},
   "source": [
    "## 1. Consolidated quickstart"
   ]
  },
  {
   "cell_type": "code",
   "execution_count": 20,
   "id": "ba59aad9",
   "metadata": {},
   "outputs": [
    {
     "name": "stdout",
     "output_type": "stream",
     "text": [
      "The autoreload extension is already loaded. To reload it, use:\n",
      "  %reload_ext autoreload\n"
     ]
    }
   ],
   "source": [
    "%load_ext autoreload\n",
    "%autoreload\n",
    "from google_tools.sheets_utils import (Create_Service, \n",
    "                                       BUILD_PARAMS, \n",
    "                                       SAMPLE_RANGE_NAME, \n",
    "                                       SAMPLE_SPREADSHEET_ID,\n",
    "                                       GoogleSheetsWB)"
   ]
  },
  {
   "cell_type": "code",
   "execution_count": 21,
   "id": "baa5048c",
   "metadata": {},
   "outputs": [],
   "source": [
    "service = Create_Service(BUILD_PARAMS)"
   ]
  },
  {
   "cell_type": "code",
   "execution_count": 22,
   "id": "c8f5af81",
   "metadata": {
    "scrolled": true
   },
   "outputs": [
    {
     "data": {
      "text/plain": [
       "[['Alexandra', 'Female', '4. Senior', 'CA', 'English'],\n",
       " ['Andrew', 'Male', '1. Freshman', 'SD', 'Math'],\n",
       " ['Anna', 'Female', '1. Freshman', 'NC', 'English'],\n",
       " ['Becky', 'Female', '2. Sophomore', 'SD', 'Art'],\n",
       " ['Benjamin', 'Male', '4. Senior', 'WI', 'English'],\n",
       " ['Carl', 'Male', '3. Junior', 'MD', 'Art'],\n",
       " ['Carrie', 'Female', '3. Junior', 'NE', 'English'],\n",
       " ['Dorothy', 'Female', '4. Senior', 'MD', 'Math'],\n",
       " ['Dylan', 'Male', '1. Freshman', 'MA', 'Math'],\n",
       " ['Edward', 'Male', '3. Junior', 'FL', 'English'],\n",
       " ['Ellen', 'Female', '1. Freshman', 'WI', 'Physics'],\n",
       " ['Fiona', 'Female', '1. Freshman', 'MA', 'Art'],\n",
       " ['John', 'Male', '3. Junior', 'CA', 'Physics'],\n",
       " ['Jonathan', 'Male', '2. Sophomore', 'SC', 'Math'],\n",
       " ['Joseph', 'Male', '1. Freshman', 'AK', 'English'],\n",
       " ['Josephine', 'Female', '1. Freshman', 'NY', 'Math'],\n",
       " ['Karen', 'Female', '2. Sophomore', 'NH', 'English'],\n",
       " ['Kevin', 'Male', '2. Sophomore', 'NE', 'Physics'],\n",
       " ['Lisa', 'Female', '3. Junior', 'SC', 'Art'],\n",
       " ['Mary', 'Female', '2. Sophomore', 'AK', 'Physics'],\n",
       " ['Maureen', 'Female', '1. Freshman', 'CA', 'Physics'],\n",
       " ['Nick', 'Male', '4. Senior', 'NY', 'Art'],\n",
       " ['Olivia', 'Female', '4. Senior', 'NC', 'Physics'],\n",
       " ['Pamela', 'Female', '3. Junior', 'RI', 'Math'],\n",
       " ['Patrick', 'Male', '1. Freshman', 'NY', 'Art'],\n",
       " ['Robert', 'Male', '1. Freshman', 'CA', 'English'],\n",
       " ['Sean', 'Male', '1. Freshman', 'NH', 'Physics'],\n",
       " ['Stacy', 'Female', '1. Freshman', 'NY', 'Math'],\n",
       " ['Thomas', 'Male', '2. Sophomore', 'RI', 'Art'],\n",
       " ['Will', 'Male', '4. Senior', 'FL', 'Math']]"
      ]
     },
     "execution_count": 22,
     "metadata": {},
     "output_type": "execute_result"
    }
   ],
   "source": [
    "sheet = service.spreadsheets()\n",
    "result = sheet.values().get(spreadsheetId=SAMPLE_SPREADSHEET_ID,\n",
    "                            range=SAMPLE_RANGE_NAME).execute()\n",
    "result.get('values', [])"
   ]
  },
  {
   "cell_type": "markdown",
   "id": "1bfc1fd3",
   "metadata": {},
   "source": [
    "## 2. Create spreadsheet (check GSheets to verify)"
   ]
  },
  {
   "cell_type": "code",
   "execution_count": 23,
   "id": "75eab67c",
   "metadata": {},
   "outputs": [],
   "source": [
    "sheet1 = service.spreadsheets().create().execute()"
   ]
  },
  {
   "cell_type": "markdown",
   "id": "8a323b13",
   "metadata": {},
   "source": [
    "## 3. Adding some settings (create WB and add several sheets)"
   ]
  },
  {
   "cell_type": "code",
   "execution_count": 24,
   "id": "b0d5b230",
   "metadata": {
    "scrolled": true
   },
   "outputs": [],
   "source": [
    "test_wb = GoogleSheetsWB({'properties':{'title':'test'}})"
   ]
  },
  {
   "cell_type": "code",
   "execution_count": 25,
   "id": "c3b825c0",
   "metadata": {
    "scrolled": true
   },
   "outputs": [],
   "source": [
    "test_wb.add_wb_properties({'locale':'en_US','timeZone':'America/New_York',})"
   ]
  },
  {
   "cell_type": "code",
   "execution_count": 26,
   "id": "e6d7cc15",
   "metadata": {},
   "outputs": [],
   "source": [
    "add_these = \\\n",
    "[{'properties':{'title':'sheet1'}},\n",
    "           {'properties':{'title':'sheet2'}},\n",
    "           {'properties':{'title':'sheet3'}},\n",
    "           {'properties':{'title':'sheet4'}}]"
   ]
  },
  {
   "cell_type": "code",
   "execution_count": 27,
   "id": "8e08e7f1",
   "metadata": {},
   "outputs": [],
   "source": [
    "test_wb.add_sheets(add_these)"
   ]
  },
  {
   "cell_type": "code",
   "execution_count": 28,
   "id": "76aa1ea8",
   "metadata": {
    "scrolled": true
   },
   "outputs": [],
   "source": [
    "test_sheet = test_wb.upload_wb(service)"
   ]
  },
  {
   "cell_type": "markdown",
   "id": "24ef9dca",
   "metadata": {},
   "source": [
    "## 4. Write some data to a file"
   ]
  },
  {
   "cell_type": "code",
   "execution_count": 29,
   "id": "948c6578",
   "metadata": {},
   "outputs": [],
   "source": [
    "# settings\n",
    "sheet_name = 'sheet1'\n",
    "cell_range_key = 'A1'\n",
    "values = [['A', 'B', 'C', 'D'], [1, 2, 3, 4]]\n",
    "majorDimension = 'ROWS'\n",
    "test_wb.upload_data(sheet_name, cell_range_key, values, majorDimension, service)"
   ]
  },
  {
   "cell_type": "code",
   "execution_count": 35,
   "id": "e3054340",
   "metadata": {},
   "outputs": [],
   "source": [
    "test_wb.upload_data(sheet_name, cell_range_key, values2, majorDimension, service, append=True)"
   ]
  },
  {
   "cell_type": "code",
   "execution_count": 15,
   "id": "c2a7b3c9",
   "metadata": {},
   "outputs": [],
   "source": [
    "service.close()"
   ]
  }
 ],
 "metadata": {
  "kernelspec": {
   "display_name": "Python 3",
   "language": "python",
   "name": "python3"
  },
  "language_info": {
   "codemirror_mode": {
    "name": "ipython",
    "version": 3
   },
   "file_extension": ".py",
   "mimetype": "text/x-python",
   "name": "python",
   "nbconvert_exporter": "python",
   "pygments_lexer": "ipython3",
   "version": "3.8.5"
  }
 },
 "nbformat": 4,
 "nbformat_minor": 5
}
