{
 "cells": [
  {
   "cell_type": "markdown",
   "id": "d985f653",
   "metadata": {},
   "source": [
    "## 1. Consolidated quickstart"
   ]
  },
  {
   "cell_type": "code",
   "execution_count": null,
   "id": "ba59aad9",
   "metadata": {},
   "outputs": [],
   "source": [
    "%load_ext autoreload\n",
    "%autoreload\n",
    "from google_tools.sheets_utils import (Create_Service, \n",
    "                                       BUILD_PARAMS, \n",
    "                                       SAMPLE_RANGE_NAME, \n",
    "                                       SAMPLE_SPREADSHEET_ID)"
   ]
  },
  {
   "cell_type": "code",
   "execution_count": null,
   "id": "baa5048c",
   "metadata": {},
   "outputs": [],
   "source": [
    "service = Create_Service(BUILD_PARAMS)"
   ]
  },
  {
   "cell_type": "code",
   "execution_count": null,
   "id": "c8f5af81",
   "metadata": {
    "scrolled": true
   },
   "outputs": [],
   "source": [
    "sheet = service.spreadsheets()\n",
    "result = sheet.values().get(spreadsheetId=SAMPLE_SPREADSHEET_ID,\n",
    "                            range=SAMPLE_RANGE_NAME).execute()\n",
    "result.get('values', [])"
   ]
  },
  {
   "cell_type": "markdown",
   "id": "1bfc1fd3",
   "metadata": {},
   "source": [
    "## 2. Create spreadsheet (check GSheets to verify)"
   ]
  },
  {
   "cell_type": "code",
   "execution_count": null,
   "id": "75eab67c",
   "metadata": {},
   "outputs": [],
   "source": [
    "sheet1 = service.spreadsheets().create().execute()"
   ]
  },
  {
   "cell_type": "code",
   "execution_count": null,
   "id": "b05a64f5",
   "metadata": {},
   "outputs": [],
   "source": [
    "service.close()"
   ]
  }
 ],
 "metadata": {
  "kernelspec": {
   "display_name": "Python 3",
   "language": "python",
   "name": "python3"
  },
  "language_info": {
   "codemirror_mode": {
    "name": "ipython",
    "version": 3
   },
   "file_extension": ".py",
   "mimetype": "text/x-python",
   "name": "python",
   "nbconvert_exporter": "python",
   "pygments_lexer": "ipython3",
   "version": "3.8.5"
  }
 },
 "nbformat": 4,
 "nbformat_minor": 5
}
